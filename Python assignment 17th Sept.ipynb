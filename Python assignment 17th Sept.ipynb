{
 "cells": [
  {
   "cell_type": "markdown",
   "id": "ce12c19c",
   "metadata": {},
   "source": [
    "# For Loop :-"
   ]
  },
  {
   "cell_type": "markdown",
   "id": "28e9f0c7",
   "metadata": {},
   "source": [
    "1. Write a Python program to print numbers from 1 to 10 using a for loop.\n"
   ]
  },
  {
   "cell_type": "code",
   "execution_count": 4,
   "id": "5ed3a84e",
   "metadata": {},
   "outputs": [
    {
     "name": "stdout",
     "output_type": "stream",
     "text": [
      "1 2 3 4 5 6 7 8 9 10 "
     ]
    }
   ],
   "source": [
    "for i in range (1 , 11):\n",
    "    print(i , end=\" \")"
   ]
  },
  {
   "cell_type": "markdown",
   "id": "b00e65b6",
   "metadata": {},
   "source": [
    "2. Explain the difference between a for loop and a while loop in Python.\n"
   ]
  },
  {
   "cell_type": "markdown",
   "id": "3fb1d062",
   "metadata": {},
   "source": [
    "For Loop: Primarily used to iterate over a sequence (like a list, tuple, dictionary, set, or string). \n",
    "It uses an iterator to loop through the items in the sequence\n",
    "\n",
    "While Loop: Continues executing its block of code as long as a specified condition remains True. This condition is checked before each iteration."
   ]
  },
  {
   "cell_type": "markdown",
   "id": "6c7c4213",
   "metadata": {},
   "source": [
    "3. Write a Python program to calculate the sum of all numbers from 1 to 100 using a for loop.\n"
   ]
  },
  {
   "cell_type": "code",
   "execution_count": 6,
   "id": "b4751cb1",
   "metadata": {},
   "outputs": [
    {
     "data": {
      "text/plain": [
       "5050"
      ]
     },
     "execution_count": 6,
     "metadata": {},
     "output_type": "execute_result"
    }
   ],
   "source": [
    "def add():\n",
    "    a = 0\n",
    "    for i in range(1,101):\n",
    "        a = i +a\n",
    "    return a\n",
    "\n",
    "add()"
   ]
  },
  {
   "cell_type": "markdown",
   "id": "10774a6c",
   "metadata": {},
   "source": [
    "4. How do you iterate through a list using a for loop in Python?\n"
   ]
  },
  {
   "cell_type": "code",
   "execution_count": 33,
   "id": "ff9ad117",
   "metadata": {},
   "outputs": [
    {
     "name": "stdout",
     "output_type": "stream",
     "text": [
      "1\n",
      "2\n",
      "3\n",
      "4\n",
      "5\n"
     ]
    }
   ],
   "source": [
    "a = [1,2,3,4,5]\n",
    "for i in a:\n",
    "    print(i)"
   ]
  },
  {
   "cell_type": "markdown",
   "id": "d8fdb0d7",
   "metadata": {},
   "source": [
    "5. Write a Python program to find the product of all elements in a list using a for loop.\n"
   ]
  },
  {
   "cell_type": "code",
   "execution_count": 32,
   "id": "33f25b0d",
   "metadata": {},
   "outputs": [
    {
     "data": {
      "text/plain": [
       "24"
      ]
     },
     "execution_count": 32,
     "metadata": {},
     "output_type": "execute_result"
    }
   ],
   "source": [
    "l = [1,2,3,4]\n",
    "\n",
    "def multiply(num):\n",
    "    s = 1\n",
    "    for i in num:\n",
    "        s = s * i\n",
    "    return s \n",
    "\n",
    "multiply(l)"
   ]
  },
  {
   "cell_type": "markdown",
   "id": "29296b9c",
   "metadata": {},
   "source": [
    "6. Create a Python program that prints all even numbers from 1 to 20 using a for loop.\n"
   ]
  },
  {
   "cell_type": "code",
   "execution_count": 37,
   "id": "abfa57bd",
   "metadata": {},
   "outputs": [
    {
     "name": "stdout",
     "output_type": "stream",
     "text": [
      "2\n",
      "4\n",
      "6\n",
      "8\n",
      "10\n",
      "12\n",
      "14\n",
      "16\n",
      "18\n",
      "20\n"
     ]
    }
   ],
   "source": [
    "def even():\n",
    "    for i in range (2 , 21 , 2):\n",
    "        print(i)\n",
    "even()"
   ]
  },
  {
   "cell_type": "markdown",
   "id": "5f138d53",
   "metadata": {},
   "source": [
    "# ##OR"
   ]
  },
  {
   "cell_type": "code",
   "execution_count": 38,
   "id": "8b963165",
   "metadata": {},
   "outputs": [
    {
     "name": "stdout",
     "output_type": "stream",
     "text": [
      "2\n",
      "4\n",
      "6\n",
      "8\n",
      "10\n",
      "12\n",
      "14\n",
      "16\n",
      "18\n",
      "20\n"
     ]
    }
   ],
   "source": [
    "for i in range(1,21):\n",
    "    if i%2==0:\n",
    "        print(i)"
   ]
  },
  {
   "cell_type": "markdown",
   "id": "c19fd947",
   "metadata": {},
   "source": [
    "7. Write a Python program that calculates the factorial of a number using a for loop.\n"
   ]
  },
  {
   "cell_type": "code",
   "execution_count": 39,
   "id": "5369a1ef",
   "metadata": {},
   "outputs": [
    {
     "name": "stdout",
     "output_type": "stream",
     "text": [
      "Enter the Number: 7\n",
      "Factorial of 7 is 5040\n"
     ]
    }
   ],
   "source": [
    "a = int(input(\"Enter the Number: \"))\n",
    "factorial= 1\n",
    "\n",
    "for i in range(1, a+1):\n",
    "    factorial = factorial * i\n",
    "    \n",
    "print(f\"Factorial of {a} is {factorial}\")"
   ]
  },
  {
   "cell_type": "markdown",
   "id": "165ab91e",
   "metadata": {},
   "source": [
    "8. How can you iterate through the characters of a string using a for loop in Python?\n"
   ]
  },
  {
   "cell_type": "code",
   "execution_count": 45,
   "id": "b0265c69",
   "metadata": {},
   "outputs": [
    {
     "name": "stdout",
     "output_type": "stream",
     "text": [
      "c  h  a  r  a  c  t  e  r  s  "
     ]
    }
   ],
   "source": [
    "s = \"characters\"\n",
    "for i in s:\n",
    "    print(i , end=\"  \")"
   ]
  },
  {
   "cell_type": "markdown",
   "id": "faea29d2",
   "metadata": {},
   "source": [
    "9. Write a Python program to find the largest number in a list using a for loop.\n"
   ]
  },
  {
   "cell_type": "code",
   "execution_count": 57,
   "id": "b53ebcb2",
   "metadata": {},
   "outputs": [
    {
     "data": {
      "text/plain": [
       "343"
      ]
     },
     "execution_count": 57,
     "metadata": {},
     "output_type": "execute_result"
    }
   ],
   "source": [
    "l = [1,244,3,4,5,4,343]\n",
    "s = 0\n",
    "for i in l:\n",
    "    if s > i:\n",
    "        continue\n",
    "    s = i\n",
    "s\n",
    "    "
   ]
  },
  {
   "cell_type": "markdown",
   "id": "f3bac957",
   "metadata": {},
   "source": [
    "10. Create a Python program that prints the Fibonacci sequence up to a specified limit using a for loop.\n"
   ]
  },
  {
   "cell_type": "code",
   "execution_count": 59,
   "id": "aeca19e4",
   "metadata": {},
   "outputs": [
    {
     "name": "stdout",
     "output_type": "stream",
     "text": [
      "Enter the Number: 5\n",
      "0 1 1 2 3 "
     ]
    }
   ],
   "source": [
    "a = int(input(\"Enter the Number: \"))\n",
    "n1 = 0\n",
    "n2 = 1\n",
    "for i in range(0 , a):\n",
    "    print(n1 , end = \" \")\n",
    "    n1 , n2 = n2 , n2 + n1\n",
    "    \n",
    "    \n",
    "\n",
    "\n"
   ]
  },
  {
   "cell_type": "markdown",
   "id": "28dc6756",
   "metadata": {},
   "source": [
    "11. Write a Python program to count the number of vowels in a given string using a for loop.\n"
   ]
  },
  {
   "cell_type": "code",
   "execution_count": 62,
   "id": "2d6b0bff",
   "metadata": {},
   "outputs": [
    {
     "name": "stdout",
     "output_type": "stream",
     "text": [
      "Enter String: this is a string\n",
      "Number of vowels in this string is: 4\n"
     ]
    }
   ],
   "source": [
    "a = input(\"Enter String: \")\n",
    "v = \"aeiouAEIOU\"\n",
    "count = 0\n",
    "for i in a:\n",
    "    if i in v:\n",
    "        count +=1\n",
    "print(f\"Number of vowels in this string is: {count}\")"
   ]
  },
  {
   "cell_type": "markdown",
   "id": "6b25753c",
   "metadata": {},
   "source": [
    "12. Create a Python program that generates a multiplication table for a given number using a for loop.\n"
   ]
  },
  {
   "cell_type": "code",
   "execution_count": 63,
   "id": "c9a7fb70",
   "metadata": {},
   "outputs": [
    {
     "name": "stdout",
     "output_type": "stream",
     "text": [
      "Enter number: 5\n",
      "5 * 1 = 5\n",
      "5 * 2 = 10\n",
      "5 * 3 = 15\n",
      "5 * 4 = 20\n",
      "5 * 5 = 25\n",
      "5 * 6 = 30\n",
      "5 * 7 = 35\n",
      "5 * 8 = 40\n",
      "5 * 9 = 45\n",
      "5 * 10 = 50\n"
     ]
    }
   ],
   "source": [
    "a = int(input(\"Enter number: \"))\n",
    "for i in range(1 , 11):\n",
    "    print(f\"{a} * {i} = {a*i}\")"
   ]
  },
  {
   "cell_type": "markdown",
   "id": "46118b35",
   "metadata": {},
   "source": [
    "13. Write a Python program to reverse a list using a for loop.\n"
   ]
  },
  {
   "cell_type": "code",
   "execution_count": 72,
   "id": "37fd81b3",
   "metadata": {},
   "outputs": [
    {
     "name": "stdout",
     "output_type": "stream",
     "text": [
      "5\n",
      "4\n",
      "3\n",
      "2\n",
      "1\n"
     ]
    }
   ],
   "source": [
    "a = [1,2,3,4,5]\n",
    "for i in a[ :: -1]:\n",
    "    print(i)\n",
    "    "
   ]
  },
  {
   "cell_type": "markdown",
   "id": "2b02a4c3",
   "metadata": {},
   "source": [
    "14. Write a Python program to find the common elements between two lists using a for loop.\n"
   ]
  },
  {
   "cell_type": "code",
   "execution_count": 73,
   "id": "607e9fd1",
   "metadata": {},
   "outputs": [
    {
     "name": "stdout",
     "output_type": "stream",
     "text": [
      "5\n",
      "6\n",
      "7\n",
      "8\n",
      "9\n"
     ]
    }
   ],
   "source": [
    "a = [1,2,3,4,5,6,7,8,9,10]\n",
    "b = [5,6,7,8,9]\n",
    "for i in a:\n",
    "    for e in b:\n",
    "        if i==e:\n",
    "            print(i)\n"
   ]
  },
  {
   "cell_type": "markdown",
   "id": "7219ceaa",
   "metadata": {},
   "source": [
    "15. Explain how to use a for loop to iterate through the keys and values of a dictionary in Python.\n"
   ]
  },
  {
   "cell_type": "code",
   "execution_count": 9,
   "id": "b958b612",
   "metadata": {},
   "outputs": [
    {
     "name": "stdout",
     "output_type": "stream",
     "text": [
      "Key:apple Value:1\n",
      "Key:Fruit Value:2\n",
      "Key:banana Value:3\n"
     ]
    }
   ],
   "source": [
    "# We can use the items() method on a dictionary to iterate through its keys and values using a for loop.\n",
    "# Here's how you can do it:\n",
    "\n",
    "d = {'apple' : 1 , \"Fruit\" : 2, 'banana' : 3}\n",
    "for keys,values in d.items():\n",
    "    print(f\"Key:{keys} Value:{values}\")\n",
    "\n"
   ]
  },
  {
   "cell_type": "markdown",
   "id": "8ebca6e1",
   "metadata": {},
   "source": [
    "16. Write a Python program to find the GCD (Greatest Common Divisor) of two numbers using a for loop.\n"
   ]
  },
  {
   "cell_type": "code",
   "execution_count": 76,
   "id": "ecb42cac",
   "metadata": {},
   "outputs": [
    {
     "name": "stdout",
     "output_type": "stream",
     "text": [
      "The GCD of 50 and 90 is: 10\n"
     ]
    }
   ],
   "source": [
    "def gcd(a, b):\n",
    "    \n",
    "    for i in range(min(a, b), 0, -1):\n",
    "        if a % i == 0 and b % i == 0:\n",
    "            return i\n",
    "\n",
    "\n",
    "a = 50\n",
    "b = 90\n",
    "\n",
    "print(\"The GCD of\", a, \"and\", b, \"is:\", gcd(a, b))"
   ]
  },
  {
   "cell_type": "markdown",
   "id": "25a6716c",
   "metadata": {},
   "source": [
    "17. Create a Python program that checks if a string is a palindrome using a for loop.\n"
   ]
  },
  {
   "cell_type": "code",
   "execution_count": 78,
   "id": "e0239915",
   "metadata": {},
   "outputs": [
    {
     "name": "stdout",
     "output_type": "stream",
     "text": [
      "Enter the string: Madam\n",
      "True\n"
     ]
    }
   ],
   "source": [
    "a = input(\"Enter the string: \")\n",
    "if a[:].lower() == a[::-1].lower():\n",
    "    print(True)\n",
    "else:\n",
    "    print(False)\n"
   ]
  },
  {
   "cell_type": "markdown",
   "id": "a784d780",
   "metadata": {},
   "source": [
    "18. Write a Python program to remove duplicates from a list using a for loop.\n"
   ]
  },
  {
   "cell_type": "code",
   "execution_count": 89,
   "id": "910a604d",
   "metadata": {},
   "outputs": [
    {
     "data": {
      "text/plain": [
       "[1, 2, 3, 4, 5, 6]"
      ]
     },
     "execution_count": 89,
     "metadata": {},
     "output_type": "execute_result"
    }
   ],
   "source": [
    "a =[1 , 2 ,3,3,4,4,5,6,4,5]\n",
    "b = []\n",
    "for i in a:\n",
    "    if i not in b:\n",
    "        b.append(i)\n",
    "\n",
    "b"
   ]
  },
  {
   "cell_type": "markdown",
   "id": "b5884caf",
   "metadata": {},
   "source": [
    "19. Create a Python program that counts the number of words in a sentence using a for loop.\n"
   ]
  },
  {
   "cell_type": "code",
   "execution_count": 99,
   "id": "25dd851c",
   "metadata": {},
   "outputs": [
    {
     "name": "stdout",
     "output_type": "stream",
     "text": [
      "Enter String: this is a string\n",
      "Number of words are: 4\n"
     ]
    }
   ],
   "source": [
    "a = input(\"Enter String: \")\n",
    "count = 0\n",
    "a1 = a.split()\n",
    "for i in a1:\n",
    "    count+=1\n",
    "print(f\"Number of words are: {count}\")\n",
    "    \n",
    "    \n",
    "    "
   ]
  },
  {
   "cell_type": "markdown",
   "id": "eccf54fb",
   "metadata": {},
   "source": [
    "20. Write a Python program to find the sum of all odd numbers from 1 to 50 using a for loop.\n"
   ]
  },
  {
   "cell_type": "code",
   "execution_count": 10,
   "id": "b385ca3d",
   "metadata": {},
   "outputs": [
    {
     "data": {
      "text/plain": [
       "625"
      ]
     },
     "execution_count": 10,
     "metadata": {},
     "output_type": "execute_result"
    }
   ],
   "source": [
    "s = 0\n",
    "for i in range(1 , 51):\n",
    "    if i %2 != 0:\n",
    "        s = s+i\n",
    "s"
   ]
  },
  {
   "cell_type": "markdown",
   "id": "2b345063",
   "metadata": {},
   "source": [
    "21. Write a Python program that checks if a given year is a leap year using a for loop.\n"
   ]
  },
  {
   "cell_type": "code",
   "execution_count": 101,
   "id": "1b8dda58",
   "metadata": {},
   "outputs": [
    {
     "name": "stdout",
     "output_type": "stream",
     "text": [
      "Enter the year: 2021\n",
      "2021 is not an leap year\n"
     ]
    }
   ],
   "source": [
    "a = int(input(\"Enter the year: \"))\n",
    "if (a%4 == 0 and a%100 != 0 ) or (a%400 == 0):\n",
    "    print(f\"{a} is leap year\")\n",
    "else:\n",
    "    print(f\"{a} is not an leap year\")"
   ]
  },
  {
   "cell_type": "markdown",
   "id": "16d9f5d7",
   "metadata": {},
   "source": [
    "22. Create a Python program that calculates the square root of a number using a for loop.\n"
   ]
  },
  {
   "cell_type": "code",
   "execution_count": 6,
   "id": "71d604e9",
   "metadata": {},
   "outputs": [
    {
     "name": "stdout",
     "output_type": "stream",
     "text": [
      "Approximate square root of 49 is 7.0\n"
     ]
    }
   ],
   "source": [
    "def square_root(n, iterations=10, initial_estimate=1.0):\n",
    "    estimate = initial_estimate\n",
    "    for i in range(iterations):\n",
    "        estimate = (estimate + n / estimate) / 2\n",
    "    return estimate\n",
    "\n",
    "number = 49\n",
    "result = square_root(number)\n",
    "print(f\"Approximate square root of {number} is {result}\")\n"
   ]
  },
  {
   "cell_type": "markdown",
   "id": "834ac8e4",
   "metadata": {},
   "source": [
    "23. Write a Python program to find the LCM (Least Common Multiple) of two numbers using a for loop.\n"
   ]
  },
  {
   "cell_type": "code",
   "execution_count": 7,
   "id": "b4078380",
   "metadata": {},
   "outputs": [
    {
     "name": "stdout",
     "output_type": "stream",
     "text": [
      "Enter the first number: 60\n",
      "Enter the second number: 75\n",
      "The LCM of 60 and 75 is: 300\n"
     ]
    }
   ],
   "source": [
    "def gcd(a, b):\n",
    "    while b:\n",
    "        a, b = b, a % b\n",
    "    return a\n",
    "\n",
    "def lcm(a, b):\n",
    "    if a == 0 or b == 0:\n",
    "        return 0\n",
    "    return abs(a * b) // gcd(a, b)\n",
    "\n",
    "num1 = int(input(\"Enter the first number: \"))\n",
    "num2 = int(input(\"Enter the second number: \"))\n",
    "\n",
    "result = lcm(num1, num2)\n",
    "\n",
    "print(f\"The LCM of {num1} and {num2} is: {result}\")\n"
   ]
  },
  {
   "cell_type": "markdown",
   "id": "c6fff323",
   "metadata": {},
   "source": [
    "# If else :\n"
   ]
  },
  {
   "cell_type": "markdown",
   "id": "3ca3e14a",
   "metadata": {},
   "source": [
    "1. Write a Python program to check if a number is positive, negative, or zero using an if-else statement.\n"
   ]
  },
  {
   "cell_type": "code",
   "execution_count": 124,
   "id": "f4acad1d",
   "metadata": {},
   "outputs": [
    {
     "name": "stdout",
     "output_type": "stream",
     "text": [
      "Enter the integer: 0\n",
      "Zero\n"
     ]
    }
   ],
   "source": [
    "a= int(input(\"Enter the integer: \"))\n",
    "if a > 0:\n",
    "    print(a,' is Positive integer')\n",
    "else:\n",
    "    if a < 0:\n",
    "        print(a,\"is negative\")\n",
    "    else:\n",
    "        print('Zero')"
   ]
  },
  {
   "cell_type": "markdown",
   "id": "4a169dd6",
   "metadata": {},
   "source": [
    "2. Create a Python program that checks if a given number is even or odd using an if-else statement.\n"
   ]
  },
  {
   "cell_type": "code",
   "execution_count": 126,
   "id": "071920e3",
   "metadata": {},
   "outputs": [
    {
     "name": "stdout",
     "output_type": "stream",
     "text": [
      "Enter the Number: 43\n",
      "43 is odd number\n"
     ]
    }
   ],
   "source": [
    "a = int(input(\"Enter the Number: \"))\n",
    "if a%2==0:\n",
    "    print(a,\"is Even number\")\n",
    "else:\n",
    "    print(a,\"is odd number\")\n",
    "    \n",
    "   "
   ]
  },
  {
   "cell_type": "markdown",
   "id": "68ab1ad5",
   "metadata": {},
   "source": [
    "3. How can you use nested if-else statements in Python, and provide an example?\n"
   ]
  },
  {
   "cell_type": "code",
   "execution_count": 19,
   "id": "4143b999",
   "metadata": {},
   "outputs": [
    {
     "name": "stdout",
     "output_type": "stream",
     "text": [
      "a is less than twenty,\n",
      "but greater than ten\n"
     ]
    }
   ],
   "source": [
    "# Nested if else statements is used to give other condition when its previous condition is already fulfilled. \n",
    "# Example:\n",
    "a  = 15\n",
    "if a<20:\n",
    "    print(\"a is less than twenty,\")\n",
    "    if a > 10 :\n",
    "        print(\"but greater than ten\")\n",
    "    else:\n",
    "        print(\"but not greater than ten\")\n",
    "else:\n",
    "    print(\"a is not less than twenty \")"
   ]
  },
  {
   "cell_type": "markdown",
   "id": "0b9a08bf",
   "metadata": {},
   "source": [
    "4. Write a Python program to determine the largest of three numbers using if-else.\n"
   ]
  },
  {
   "cell_type": "code",
   "execution_count": 110,
   "id": "3034159f",
   "metadata": {},
   "outputs": [
    {
     "name": "stdout",
     "output_type": "stream",
     "text": [
      "Enter first Number: 4\n",
      "Enter second Number: 3\n",
      "Enter third Number: 6\n",
      "Largerst Number is 6\n"
     ]
    }
   ],
   "source": [
    "a = int(input(\"Enter first Number: \"))\n",
    "b = int(input(\"Enter second Number: \"))\n",
    "c = int(input(\"Enter third Number: \"))\n",
    "if a > b > c:\n",
    "    print(f\"Largest Number is {a}\")\n",
    "else:\n",
    "    if b > a > c:\n",
    "        print(f\"Largest number is {b}\")\n",
    "    else:\n",
    "        print(f\"Largerst Number is {c}\")"
   ]
  },
  {
   "cell_type": "markdown",
   "id": "161692ca",
   "metadata": {},
   "source": [
    "5. Write a Python program that calculates the absolute value of a number using if-else.\n"
   ]
  },
  {
   "cell_type": "code",
   "execution_count": 128,
   "id": "4206458c",
   "metadata": {},
   "outputs": [
    {
     "name": "stdout",
     "output_type": "stream",
     "text": [
      "Enter number: 56\n",
      "56\n"
     ]
    }
   ],
   "source": [
    "a = int(input('Enter number: '))\n",
    "\n",
    "if a <=0:\n",
    "    print(-a)\n",
    "else:\n",
    "    print(a)"
   ]
  },
  {
   "cell_type": "markdown",
   "id": "33673c1e",
   "metadata": {},
   "source": [
    "6. Create a Python program that checks if a given character is a vowel or consonant using if-else.\n"
   ]
  },
  {
   "cell_type": "code",
   "execution_count": 130,
   "id": "1a994a75",
   "metadata": {},
   "outputs": [
    {
     "name": "stdout",
     "output_type": "stream",
     "text": [
      "Enter a character: T\n",
      "T is Consonant\n"
     ]
    }
   ],
   "source": [
    "a = input(\"Enter a character: \")\n",
    "if a.lower() in \"aeiou\":\n",
    "    print(a,\"is vowel\")\n",
    "else:\n",
    "    print(a,\"is Consonant\")\n"
   ]
  },
  {
   "cell_type": "markdown",
   "id": "8fd68dcf",
   "metadata": {},
   "source": [
    "7. Write a Python program to determine if a user is eligible to vote based on their age using if-else.\n"
   ]
  },
  {
   "cell_type": "code",
   "execution_count": null,
   "id": "58047f0c",
   "metadata": {},
   "outputs": [],
   "source": [
    "a = int(input(\"Enter your age: \"))\n",
    "if a >=18:\n",
    "    print(\"You are eligible to vote\")\n",
    "else:\n",
    "    print(\"Your are not eligible to vote\")"
   ]
  },
  {
   "cell_type": "markdown",
   "id": "9c651a29",
   "metadata": {},
   "source": [
    "8. Create a Python program that calculates the discount amount based on the purchase amount using if-else.\n"
   ]
  },
  {
   "cell_type": "code",
   "execution_count": 24,
   "id": "b4f1203c",
   "metadata": {},
   "outputs": [
    {
     "name": "stdout",
     "output_type": "stream",
     "text": [
      "Your after discount amount will be 40000.0\n"
     ]
    }
   ],
   "source": [
    "a = 50000\n",
    "if a <=1000:\n",
    "    print(f\"Below 1000 there is no discount\")\n",
    "if a >1000 and a <=5000:\n",
    "    print(f\"Your after discount amount will be {a - (a*5/100)}\")\n",
    "if a > 5000 and a<=10000:\n",
    "    print(f\"Your after discount amount will be {a - (a*10/100)}\")\n",
    "else:\n",
    "    print(f\"Your after discount amount will be {a - (a*20/100)}\")"
   ]
  },
  {
   "cell_type": "markdown",
   "id": "939c8d96",
   "metadata": {},
   "source": [
    "9. Write a Python program to check if a number is within a specified range using if-else.\n"
   ]
  },
  {
   "cell_type": "code",
   "execution_count": 37,
   "id": "3788405d",
   "metadata": {},
   "outputs": [
    {
     "name": "stdout",
     "output_type": "stream",
     "text": [
      "Enter a number: 22\n",
      "Enter the start of the range: 20\n",
      "Enter the end of the range: 40\n",
      "True\n"
     ]
    }
   ],
   "source": [
    "def is_in_range(n, start, end):\n",
    "    if start <= n <= end:\n",
    "        return True\n",
    "    else:\n",
    "        return False\n",
    "number = float(input(\"Enter a number: \"))\n",
    "start_range = float(input(\"Enter the start of the range: \"))\n",
    "end_range = float(input(\"Enter the end of the range: \"))\n",
    "print(is_in_range(number,start_range,end_range))"
   ]
  },
  {
   "cell_type": "markdown",
   "id": "a764d74f",
   "metadata": {},
   "source": [
    "10. Create a Python program that determines the grade of a student based on their score using if-else.\n"
   ]
  },
  {
   "cell_type": "code",
   "execution_count": 137,
   "id": "65487a91",
   "metadata": {},
   "outputs": [
    {
     "name": "stdout",
     "output_type": "stream",
     "text": [
      "Enter the marks: 97\n",
      "Grade: A\n"
     ]
    }
   ],
   "source": [
    "a = int(input(\"Enter the marks: \"))\n",
    "if a >= 90:\n",
    "    print(\"Grade: A\")\n",
    "else:\n",
    "    if a<= 80 and a>=60:\n",
    "        print(\"Grade: B\")\n",
    "    else:\n",
    "        print(\"Grade: C\")"
   ]
  },
  {
   "cell_type": "markdown",
   "id": "a196727e",
   "metadata": {},
   "source": [
    "11. Write a Python program to check if a string is empty or not using if-else.\n"
   ]
  },
  {
   "cell_type": "code",
   "execution_count": 1,
   "id": "3e960705",
   "metadata": {},
   "outputs": [
    {
     "name": "stdout",
     "output_type": "stream",
     "text": [
      "Enter string: \n",
      "This string is Empty\n"
     ]
    }
   ],
   "source": [
    "a = input(\"Enter string: \")\n",
    "if a == \"\":\n",
    "    print(\"This string is Empty\")\n",
    "    \n",
    "else:\n",
    "    print(\"this string is not Empty\")"
   ]
  },
  {
   "cell_type": "markdown",
   "id": "ba647f45",
   "metadata": {},
   "source": [
    "12. Create a Python program that identifies the type of a triangle (e.g., equilateral, isosceles, or scalene)\n",
    "based on input values using if-else.\n"
   ]
  },
  {
   "cell_type": "code",
   "execution_count": 2,
   "id": "17e83785",
   "metadata": {},
   "outputs": [
    {
     "name": "stdout",
     "output_type": "stream",
     "text": [
      "Enter first Number: 78\n",
      "Enter second Number: 78\n",
      "Enter third Number: 65\n",
      "Isosceles\n"
     ]
    }
   ],
   "source": [
    "a = int(input(\"Enter first Number: \"))\n",
    "b = int(input(\"Enter second Number: \"))\n",
    "c = int(input(\"Enter third Number: \"))\n",
    "\n",
    "if a <= 0 or b <= 0 or c <= 0:\n",
    "    print(\"Invalid side lengths\")\n",
    "if a + b <= c or a + c <= b or b + c <= a:\n",
    "    print( \"Not a valid triangle\")\n",
    "if a == b and b == c:\n",
    "    print (\"Equilateral\")\n",
    "elif a == b or b == c or a == c:\n",
    "    print(\"Isosceles\")\n",
    "else:\n",
    "    print(\"Scalene\")"
   ]
  },
  {
   "cell_type": "markdown",
   "id": "b90a1fdf",
   "metadata": {},
   "source": [
    "13. Write a Python program to determine the day of the week based on a user-provided number using if-else.\n"
   ]
  },
  {
   "cell_type": "code",
   "execution_count": 2,
   "id": "f4ab96b9",
   "metadata": {},
   "outputs": [
    {
     "name": "stdout",
     "output_type": "stream",
     "text": [
      "Enter number from 1 to 7: 7\n",
      "Sunday\n"
     ]
    }
   ],
   "source": [
    "a = int(input(\"Enter number from 1 to 7: \"))\n",
    "if a == 1 :\n",
    "    print(\"Monday\")\n",
    "if a==2:\n",
    "    print(\"Tuesday\")\n",
    "if a==3:\n",
    "    print(\"Wednesday\")\n",
    "if a==4:\n",
    "    print(\"Thrusday\")\n",
    "if a==5:\n",
    "    print(\"Friday\")\n",
    "if a==6:\n",
    "    print(\"Saturday\")\n",
    "if a==7:\n",
    "    print(\"Sunday\")\n"
   ]
  },
  {
   "cell_type": "markdown",
   "id": "f5aafd62",
   "metadata": {},
   "source": [
    "14. Create a Python program that checks if a given year is a leap year using both if-else and a function.\n"
   ]
  },
  {
   "cell_type": "code",
   "execution_count": 38,
   "id": "ecf717ac",
   "metadata": {},
   "outputs": [
    {
     "name": "stdout",
     "output_type": "stream",
     "text": [
      "Enter a year: 2020\n",
      "True\n"
     ]
    }
   ],
   "source": [
    "def is_leap_year(year):\n",
    "   \n",
    "    if (year % 4 == 0 and year % 100 != 0) or (year % 400 == 0):\n",
    "        return True\n",
    "    else:\n",
    "        return False\n",
    "\n",
    "year = int(input(\"Enter a year: \"))\n",
    "\n",
    "print(is_leap_year(year))\n"
   ]
  },
  {
   "cell_type": "markdown",
   "id": "7c0c3928",
   "metadata": {},
   "source": [
    "15. How do you use the \"assert\" statement in Python to add debugging checks within if-else blocks?\n"
   ]
  },
  {
   "cell_type": "code",
   "execution_count": null,
   "id": "4480da81",
   "metadata": {},
   "outputs": [],
   "source": [
    "# The assert statement is a debugging aid that tests a condition as part of your code. If the condition is true, \n",
    "# this does nothing. If the condition is false, it raises an AssertionError exception with an optional error message.\n",
    "\n"
   ]
  },
  {
   "cell_type": "markdown",
   "id": "76c87523",
   "metadata": {},
   "source": [
    "16. Create a Python program that determines the eligibility of a person for a senior citizen discount based on age using if-else.\n"
   ]
  },
  {
   "cell_type": "code",
   "execution_count": 5,
   "id": "39537c8a",
   "metadata": {},
   "outputs": [
    {
     "name": "stdout",
     "output_type": "stream",
     "text": [
      "Enter Your age: 78\n",
      "Discount would be 500\n"
     ]
    }
   ],
   "source": [
    "a = int(input(\"Enter Your age: \"))\n",
    "if a>=80:\n",
    "    print(\"Discount would be 1000\")\n",
    "if a<80 and a >=60:\n",
    "    print('Discount would be 500')\n",
    "if a < 60 and a > 40:\n",
    "    print(\"Discount would be 300\")\n",
    "if a < 40:\n",
    "    print(\"No Discount\")"
   ]
  },
  {
   "cell_type": "markdown",
   "id": "731e9ba3",
   "metadata": {},
   "source": [
    "17. Write a Python program to categorize a given character as uppercase, lowercase, or neither using if-else.\n"
   ]
  },
  {
   "cell_type": "code",
   "execution_count": null,
   "id": "d8ac45d9",
   "metadata": {},
   "outputs": [],
   "source": [
    "a = input(\"Enter a character: \")\n",
    "if a ==a.lower():\n",
    "    print(\"Lowercase\")\n"
   ]
  },
  {
   "cell_type": "markdown",
   "id": "69437e52",
   "metadata": {},
   "source": [
    "18. Write a Python program to determine the roots of a quadratic equation using if-else.\n"
   ]
  },
  {
   "cell_type": "code",
   "execution_count": 3,
   "id": "b3661ff5",
   "metadata": {},
   "outputs": [
    {
     "name": "stdout",
     "output_type": "stream",
     "text": [
      "Roots are: ((2+0j), (1+0j))\n"
     ]
    }
   ],
   "source": [
    "import cmath  \n",
    "\n",
    "def quadratic_roots(a, b, c):\n",
    "    discriminant = b**2 - 4*a*c\n",
    "    \n",
    "    if discriminant > 0:\n",
    "        root1 = (-b + cmath.sqrt(discriminant)) / (2*a)\n",
    "        root2 = (-b - cmath.sqrt(discriminant)) / (2*a)\n",
    "        return (root1, root2)\n",
    "    \n",
    "    elif discriminant == 0:\n",
    "        root = -b / (2*a)\n",
    "        return (root,)\n",
    "    \n",
    "    else:\n",
    "        root1 = (-b + cmath.sqrt(discriminant)) / (2*a)\n",
    "        root2 = (-b - cmath.sqrt(discriminant)) / (2*a)\n",
    "        return (root1, root2)\n",
    "\n",
    "a = 1\n",
    "b = -3\n",
    "c = 2\n",
    "roots = quadratic_roots(a, b, c)\n",
    "print(\"Roots are:\", roots)\n"
   ]
  },
  {
   "cell_type": "markdown",
   "id": "e007d7a2",
   "metadata": {},
   "source": [
    "19. Create a Python program that checks if a given year is a century year or not using if-else.\n"
   ]
  },
  {
   "cell_type": "code",
   "execution_count": null,
   "id": "26e533fe",
   "metadata": {},
   "outputs": [],
   "source": [
    "a =int(input(\"Enter Year: \"))\n",
    "if a%100==0:\n",
    "    print(\"Century Year\")\n",
    "else:\n",
    "    print(\"Not a century year\")"
   ]
  },
  {
   "cell_type": "markdown",
   "id": "392ef606",
   "metadata": {},
   "source": [
    "20. Write a Python program to determine if a given number is a perfect square using if-else.\n"
   ]
  },
  {
   "cell_type": "code",
   "execution_count": 40,
   "id": "e3e607ca",
   "metadata": {},
   "outputs": [
    {
     "name": "stdout",
     "output_type": "stream",
     "text": [
      "Enter a number: 49\n",
      "True\n"
     ]
    }
   ],
   "source": [
    "import math\n",
    "\n",
    "def is_perfect_square(n):\n",
    "    root = math.sqrt(n)\n",
    "    \n",
    "    if int(root + 0.5) ** 2 == n:\n",
    "        return True\n",
    "    else:\n",
    "        return False\n",
    "\n",
    "number = int(input(\"Enter a number: \"))\n",
    "print(is_perfect_square(number))"
   ]
  },
  {
   "cell_type": "markdown",
   "id": "b8731f90",
   "metadata": {},
   "source": [
    "21. Explain the purpose of the \"continue\" and \"break\" statements within if-else loops.\n"
   ]
  },
  {
   "cell_type": "code",
   "execution_count": 11,
   "id": "78ec5621",
   "metadata": {},
   "outputs": [
    {
     "name": "stdout",
     "output_type": "stream",
     "text": [
      "0 1 3 4 0 1 "
     ]
    }
   ],
   "source": [
    "# Both continue and break are used to control the flow of loops. Using them judiciously can make your code more readable and \n",
    "# efficient by preventing unnecessary iterations or early exits when a particular condition is met.\n",
    "# Purpose: The continue statement is used to skip the current iteration of the loop and jump to the beginning of the \n",
    "# next iteration.\n",
    "# Purpose: The break statement is used to terminate the loop entirely, regardless of the loop's condition.\n",
    "\n",
    "# Usage of continue statement within if-else:\n",
    "for i in range(5):\n",
    "    if i==2:\n",
    "        continue\n",
    "    print(i,end=\" \") # this will skip that part where the condition is true and print the rest of the output.\n",
    "    \n",
    "# Usage of break statement within if_else:\n",
    "for e in range(5):\n",
    "    if e==2:\n",
    "        break\n",
    "    print(e,end=\" \") # Code will stop working where the condition is true.\n",
    "\n",
    "    \n"
   ]
  },
  {
   "cell_type": "markdown",
   "id": "4ed58960",
   "metadata": {},
   "source": [
    "22. Create a Python program that calculates the BMI (Body Mass Index) of a person based on their weight and height using if-else.\n"
   ]
  },
  {
   "cell_type": "code",
   "execution_count": 3,
   "id": "21654545",
   "metadata": {},
   "outputs": [
    {
     "name": "stdout",
     "output_type": "stream",
     "text": [
      "Enter your weight in kg: 57\n",
      "Enter your height in meters: 1.68\n",
      "Your BMI is 20.19557823129252 which means you are normal.\n"
     ]
    },
    {
     "data": {
      "text/plain": [
       "20.19557823129252"
      ]
     },
     "execution_count": 3,
     "metadata": {},
     "output_type": "execute_result"
    }
   ],
   "source": [
    "w = int(input(\"Enter your weight in kg: \"))\n",
    "h = float(input(\"Enter your height in meters: \"))\n",
    "\n",
    "bmi = w/(h*h)\n",
    "\n",
    "if bmi <= 18.5:\n",
    "    print('Your BMI is', bmi,'which means you are underweight.')\n",
    "\n",
    "if bmi > 18.5 and bmi < 25:\n",
    "    print('Your BMI is', bmi,'which means you are normal.')\n",
    "\n",
    "if bmi > 25 and bmi < 30:\n",
    "    print('your BMI is', bmi,'overweight.')\n",
    "\n",
    "if bmi > 30:\n",
    "    print('Your BMI is', bmi,'which means you are obese.')\n",
    "\n",
    "\n",
    "bmi"
   ]
  },
  {
   "cell_type": "markdown",
   "id": "f147d00a",
   "metadata": {},
   "source": [
    "23. How can you use the \"filter()\" function with if-else statements to filter elements from a list?\n"
   ]
  },
  {
   "cell_type": "code",
   "execution_count": null,
   "id": "65742c66",
   "metadata": {},
   "outputs": [],
   "source": [
    "l = [1,2,3,4,5,5,6,7,8]\n",
    "\n",
    "list(filter(lambda a:a))"
   ]
  },
  {
   "cell_type": "markdown",
   "id": "76c3f347",
   "metadata": {},
   "source": [
    "\n",
    "24. Write a Python program to determine if a given number is prime or not using if-else.\n"
   ]
  },
  {
   "cell_type": "code",
   "execution_count": 12,
   "id": "7ed1414f",
   "metadata": {},
   "outputs": [
    {
     "name": "stdout",
     "output_type": "stream",
     "text": [
      "Enter a number: 77\n",
      "77 is not a prime number.\n"
     ]
    }
   ],
   "source": [
    "def is_prime(n):\n",
    "    if n <= 1:\n",
    "        return False\n",
    "    if n <= 3:\n",
    "        return True\n",
    "    if n % 2 == 0 or n % 3 == 0:\n",
    "        return False\n",
    "    i = 5\n",
    "    while i * i <= n:\n",
    "        if n % i == 0 or n % (i + 2) == 0:\n",
    "            return False\n",
    "        i += 6\n",
    "    return True\n",
    "\n",
    "num = int(input(\"Enter a number: \"))\n",
    "\n",
    "if is_prime(num):\n",
    "    print(f\"{num} is a prime number.\")\n",
    "else:\n",
    "    print(f\"{num} is not a prime number.\")\n"
   ]
  },
  {
   "cell_type": "code",
   "execution_count": null,
   "id": "a6871452",
   "metadata": {},
   "outputs": [],
   "source": []
  },
  {
   "cell_type": "markdown",
   "id": "0c1cd3e6",
   "metadata": {},
   "source": [
    "# Map :-\n"
   ]
  },
  {
   "cell_type": "markdown",
   "id": "6d54a8d1",
   "metadata": {},
   "source": [
    "1. Explain the purpose of the `map()` function in Python and provide an example of how it can be used to apply a function \n",
    "to each element of an iterable."
   ]
  },
  {
   "cell_type": "code",
   "execution_count": 12,
   "id": "60a542f9",
   "metadata": {},
   "outputs": [
    {
     "name": "stdout",
     "output_type": "stream",
     "text": [
      "[1, 4, 9, 16, 25]\n"
     ]
    }
   ],
   "source": [
    "# Purpose:\n",
    "# The primary purpose of map() is to transform data. Instead of writing a loop to iterate over an iterable and apply a \n",
    "# function to each element, map() offers a more concise and readable way to achieve the same result.\n",
    "\n",
    "# Example:\n",
    "def square(x):\n",
    "    return x**2\n",
    "\n",
    "numbers = [1, 2, 3, 4, 5]\n",
    "squared_numbers = map(square, numbers)\n",
    "\n",
    "print(list(squared_numbers))  \n"
   ]
  },
  {
   "cell_type": "markdown",
   "id": "0a130ede",
   "metadata": {},
   "source": [
    "2. Write a Python program that uses the `map()` function to square each element of a list of numbers.\n"
   ]
  },
  {
   "cell_type": "code",
   "execution_count": 1,
   "id": "acac34c1",
   "metadata": {},
   "outputs": [
    {
     "data": {
      "text/plain": [
       "[1, 4, 9, 16, 25, 36]"
      ]
     },
     "execution_count": 1,
     "metadata": {},
     "output_type": "execute_result"
    }
   ],
   "source": [
    "l = [1,2,3,4,5,6]\n",
    "\n",
    "list(map(lambda n: n*n, l))"
   ]
  },
  {
   "cell_type": "markdown",
   "id": "5c9c9824",
   "metadata": {},
   "source": [
    "3. How does the `map()` function differ from a list comprehension in Python, and when would you choose one over the other?\n"
   ]
  },
  {
   "cell_type": "markdown",
   "id": "5c088670",
   "metadata": {},
   "source": [
    "Syntax & Usage:\n",
    "map():\n",
    "map(function, iterable)\n",
    "\n",
    "It applies the function to each element of the iterable. The result is a map object (an iterator).\n",
    "\n",
    "List Comprehension:\n",
    "\n",
    "[expression for item in iterable if condition]\n",
    "This is a concise way to create a new list by evaluating the expression for each item in the iterable that meets the condition.\n",
    "\n",
    "\n",
    "map() returns a map object (iterator), which means you usually need to wrap it with list(), set(), etc., to see the full output.\n",
    "List comprehensions directly return a list.\n",
    "Function vs. Inline Expression:\n",
    "\n",
    "map() requires a function (either user-defined or lambda) to process elements.\n",
    "List comprehensions use inline expressions, which can sometimes be more readable and concise.\n",
    "Multiple Iterables:\n",
    "\n",
    "map() can operate on multiple iterables at once, as long as the provided function accepts the correct number of arguments.\n",
    "List comprehensions typically operate on a single iterable, though you can nest them or use multiple for clauses."
   ]
  },
  {
   "cell_type": "markdown",
   "id": "1de8c250",
   "metadata": {},
   "source": [
    "4. Create a Python program that uses the `map()` function to convert a list of names to uppercase.\n"
   ]
  },
  {
   "cell_type": "code",
   "execution_count": 12,
   "id": "527ca9c5",
   "metadata": {},
   "outputs": [
    {
     "data": {
      "text/plain": [
       "['RAHUL', 'SOHAN', 'APPU']"
      ]
     },
     "execution_count": 12,
     "metadata": {},
     "output_type": "execute_result"
    }
   ],
   "source": [
    "l = [\"Rahul\" , \"Sohan\" , \"Appu\"]\n",
    "\n",
    "def name(n):\n",
    "    return n.upper()\n",
    "\n",
    "list(map(name,l))"
   ]
  },
  {
   "cell_type": "markdown",
   "id": "e595da8f",
   "metadata": {},
   "source": [
    "5. Write a Python program that uses the `map()` function to calculate the length of each word in a list of strings.\n"
   ]
  },
  {
   "cell_type": "code",
   "execution_count": 14,
   "id": "68064c2d",
   "metadata": {},
   "outputs": [
    {
     "data": {
      "text/plain": [
       "3"
      ]
     },
     "execution_count": 14,
     "metadata": {},
     "output_type": "execute_result"
    }
   ],
   "source": [
    "l = [\"Rahul\" , \"Sohan\" , \"Appu\"]\n",
    "def counting(n):\n",
    "    return len(n)\n",
    "list(map(counting,l))\n"
   ]
  },
  {
   "cell_type": "markdown",
   "id": "5cd392cf",
   "metadata": {},
   "source": [
    "6. How can you use the `map()` function to apply a custom function to elements of multiple lists simultaneously in Python?\n"
   ]
  },
  {
   "cell_type": "code",
   "execution_count": 36,
   "id": "6ebfd8ee",
   "metadata": {},
   "outputs": [
    {
     "data": {
      "text/plain": [
       "[12, 15, 18]"
      ]
     },
     "execution_count": 36,
     "metadata": {},
     "output_type": "execute_result"
    }
   ],
   "source": [
    "l = [1,2,3]\n",
    "l2 = [4,5,6]\n",
    "l3 = [7,8,9]\n",
    "def multiple(a,b,c):\n",
    "    return a+b+c\n",
    "\n",
    "r =list(map(multiple,l,l2,l3))\n",
    "r"
   ]
  },
  {
   "cell_type": "markdown",
   "id": "db6d1d9e",
   "metadata": {},
   "source": [
    "7. Create a Python program that uses `map()` to convert a list of temperatures from Celsius to Fahrenheit.\n"
   ]
  },
  {
   "cell_type": "code",
   "execution_count": 17,
   "id": "4e99d809",
   "metadata": {},
   "outputs": [
    {
     "data": {
      "text/plain": [
       "[50.0, 53.6, 73.4, 109.4, 140.0]"
      ]
     },
     "execution_count": 17,
     "metadata": {},
     "output_type": "execute_result"
    }
   ],
   "source": [
    "l = [10,12,23,43,60]\n",
    "def conversion(n):\n",
    "    return (n*1.8) + 32\n",
    "list(map(conversion , l))"
   ]
  },
  {
   "cell_type": "markdown",
   "id": "3405398a",
   "metadata": {},
   "source": [
    "8. Write a Python program that uses the `map()` function to round each element of a list of floating-point numbers to the nearest integer.\n"
   ]
  },
  {
   "cell_type": "code",
   "execution_count": 19,
   "id": "f8b07a98",
   "metadata": {},
   "outputs": [
    {
     "data": {
      "text/plain": [
       "[1, 3, 4, 5, 6]"
      ]
     },
     "execution_count": 19,
     "metadata": {},
     "output_type": "execute_result"
    }
   ],
   "source": [
    "l = [1.2, 2.69, 3.98, 4.57, 5.5]\n",
    "def fixed_int(n):\n",
    "    return round(n)\n",
    "\n",
    "list(map(fixed_int,l))"
   ]
  },
  {
   "cell_type": "markdown",
   "id": "4f414c7f",
   "metadata": {},
   "source": [
    "# Reduce :-\n"
   ]
  },
  {
   "cell_type": "markdown",
   "id": "349e20e1",
   "metadata": {},
   "source": [
    "1. What is the `reduce()` function in Python, and what module should you import to use it? \n",
    "Provide an example of its basic usage.\n"
   ]
  },
  {
   "cell_type": "markdown",
   "id": "91180d71",
   "metadata": {},
   "source": [
    "Reduce function is used when we need a single element as our output. It takes two arguments(function,iterables).\n",
    "Reduce function apply the given formula in iterables in such a way that the output will occur in a single element.\n",
    "Functools is the module from where we can import the reduce function.For Example:\n",
    "From functools import reduce"
   ]
  },
  {
   "cell_type": "code",
   "execution_count": 23,
   "id": "a4d2f817",
   "metadata": {},
   "outputs": [
    {
     "data": {
      "text/plain": [
       "10"
      ]
     },
     "execution_count": 23,
     "metadata": {},
     "output_type": "execute_result"
    }
   ],
   "source": [
    "# Basic Usage of Reduce function\n",
    "l = [1,2,3,4]\n",
    "reduce(lambda a,b : a+b,l)\n",
    "# this is a basic addition function by using reduce"
   ]
  },
  {
   "cell_type": "markdown",
   "id": "32253d95",
   "metadata": {},
   "source": [
    "2. Write a Python program that uses the `reduce()` function to find the product of all elements in a list.\n"
   ]
  },
  {
   "cell_type": "code",
   "execution_count": 3,
   "id": "7d43a04e",
   "metadata": {},
   "outputs": [
    {
     "data": {
      "text/plain": [
       "120"
      ]
     },
     "execution_count": 3,
     "metadata": {},
     "output_type": "execute_result"
    }
   ],
   "source": [
    "from functools import reduce\n",
    "l = [1,2,3,4,5]\n",
    "\n",
    "reduce(lambda a,b: a*b,l)\n"
   ]
  },
  {
   "cell_type": "markdown",
   "id": "84e3f96f",
   "metadata": {},
   "source": [
    "3. Create a Python program that uses `reduce()` to find the maximum element in a list of numbers.\n"
   ]
  },
  {
   "cell_type": "code",
   "execution_count": 5,
   "id": "368379d1",
   "metadata": {},
   "outputs": [
    {
     "data": {
      "text/plain": [
       "6"
      ]
     },
     "execution_count": 5,
     "metadata": {},
     "output_type": "execute_result"
    }
   ],
   "source": [
    "l = [3,2,4,2,5,1,6,3]\n",
    "reduce(lambda a,b : a if a > b else b , l)"
   ]
  },
  {
   "cell_type": "markdown",
   "id": "ccf8b836",
   "metadata": {},
   "source": [
    "4. How can you use the `reduce()` function to concatenate a list of strings into a single string?\n"
   ]
  },
  {
   "cell_type": "code",
   "execution_count": 21,
   "id": "e7c76aab",
   "metadata": {},
   "outputs": [
    {
     "data": {
      "text/plain": [
       "'listofstrings'"
      ]
     },
     "execution_count": 21,
     "metadata": {},
     "output_type": "execute_result"
    }
   ],
   "source": [
    "# Reduce function will be use in following way to contatenate a list of strings into a single string.\n",
    "\n",
    "a = [\"list\" , \"of\", 'strings']\n",
    "reduce(lambda a,b : a+b , a)\n"
   ]
  },
  {
   "cell_type": "markdown",
   "id": "b0e773fc",
   "metadata": {},
   "source": [
    "5. Write a Python program that calculates the factorial of a number using the `reduce()` function.\n"
   ]
  },
  {
   "cell_type": "code",
   "execution_count": 9,
   "id": "27f16f73",
   "metadata": {},
   "outputs": [
    {
     "data": {
      "text/plain": [
       "720"
      ]
     },
     "execution_count": 9,
     "metadata": {},
     "output_type": "execute_result"
    }
   ],
   "source": [
    "n = 6\n",
    "\n",
    "reduce(lambda a,b: a*b, [i for i in range(1,n+1)])"
   ]
  },
  {
   "cell_type": "markdown",
   "id": "7beaa0ce",
   "metadata": {},
   "source": [
    "6. Create a Python program that uses `reduce()` to find the GCD (Greatest Common Divisor) of a list of numbers.\n"
   ]
  },
  {
   "cell_type": "code",
   "execution_count": 11,
   "id": "b9114304",
   "metadata": {},
   "outputs": [
    {
     "data": {
      "text/plain": [
       "5"
      ]
     },
     "execution_count": 11,
     "metadata": {},
     "output_type": "execute_result"
    }
   ],
   "source": [
    "l1 = [5,15,20]\n",
    "def gcd(a, b):\n",
    "    while b:\n",
    "        a, b = b, a % b\n",
    "    return a\n",
    "reduce(gcd,l1)"
   ]
  },
  {
   "cell_type": "markdown",
   "id": "c02284c7",
   "metadata": {},
   "source": [
    "7. Write a Python program that uses the `reduce()` function to find the sum of the digits of a given number.\n"
   ]
  },
  {
   "cell_type": "code",
   "execution_count": 18,
   "id": "7e883452",
   "metadata": {},
   "outputs": [
    {
     "data": {
      "text/plain": [
       "15"
      ]
     },
     "execution_count": 18,
     "metadata": {},
     "output_type": "execute_result"
    }
   ],
   "source": [
    "n =12345\n",
    "reduce(lambda x, y: x + y, map(int, str(n)))\n"
   ]
  },
  {
   "cell_type": "markdown",
   "id": "2cd2633e",
   "metadata": {},
   "source": [
    "# Filter :-\n"
   ]
  },
  {
   "cell_type": "markdown",
   "id": "e71196df",
   "metadata": {},
   "source": [
    "1. Explain the purpose of the `filter()` function in Python and provide an example of how it can be used\n",
    "to filter elements from an iterable.\n"
   ]
  },
  {
   "cell_type": "code",
   "execution_count": 25,
   "id": "42e21aad",
   "metadata": {},
   "outputs": [
    {
     "data": {
      "text/plain": [
       "[2, 4]"
      ]
     },
     "execution_count": 25,
     "metadata": {},
     "output_type": "execute_result"
    }
   ],
   "source": [
    "# Filter function is used to filter elements by iteration the elements based upon the given condition. It takes two agruments\n",
    "# (condition,iterables).It really helps to shorten the length of code. \n",
    "# Example:\n",
    "list(filter(lambda a: a%2==0, range(1,6)))"
   ]
  },
  {
   "cell_type": "markdown",
   "id": "363293d3",
   "metadata": {},
   "source": [
    "2. Write a Python program that uses the `filter()` function to select even numbers from a list of integers.\n"
   ]
  },
  {
   "cell_type": "code",
   "execution_count": 27,
   "id": "dcb992aa",
   "metadata": {},
   "outputs": [
    {
     "data": {
      "text/plain": [
       "[2, 4, 6, 8]"
      ]
     },
     "execution_count": 27,
     "metadata": {},
     "output_type": "execute_result"
    }
   ],
   "source": [
    "l = [2,3,4,5,6,7,8]\n",
    "list(filter(lambda a: a%2==0,l))"
   ]
  },
  {
   "cell_type": "markdown",
   "id": "43cd42e7",
   "metadata": {},
   "source": [
    "3. Write a Python program that uses the `filter()` function to select even numbers from a list of integers.\n"
   ]
  },
  {
   "cell_type": "code",
   "execution_count": 28,
   "id": "2b0081df",
   "metadata": {},
   "outputs": [
    {
     "data": {
      "text/plain": [
       "[2, 4, 6, 8]"
      ]
     },
     "execution_count": 28,
     "metadata": {},
     "output_type": "execute_result"
    }
   ],
   "source": [
    "l = [2,3,4,5,6,7,8]\n",
    "list(filter(lambda a: a%2==0,l))"
   ]
  },
  {
   "cell_type": "markdown",
   "id": "0e2c16ed",
   "metadata": {},
   "source": [
    "4. Write a Python program that uses the `filter()` function to select prime numbers from a list of integers.\n"
   ]
  },
  {
   "cell_type": "code",
   "execution_count": 1,
   "id": "75d41c60",
   "metadata": {},
   "outputs": [
    {
     "data": {
      "text/plain": [
       "[2, 3, 5, 7, 11]"
      ]
     },
     "execution_count": 1,
     "metadata": {},
     "output_type": "execute_result"
    }
   ],
   "source": [
    "def is_prime(n):\n",
    "    if n < 2:\n",
    "        return False\n",
    "    for i in range(2, int(n ** 0.5) + 1):\n",
    "        if n % i == 0:\n",
    "            return False\n",
    "    return True\n",
    "\n",
    "l = [2,3,4,5,6,6,7,8,9,11]\n",
    "list(filter(is_prime,l))"
   ]
  },
  {
   "cell_type": "markdown",
   "id": "6874f01e",
   "metadata": {},
   "source": [
    "5. How can you use the `filter()` function to remove None values from a list in Python?\n"
   ]
  },
  {
   "cell_type": "code",
   "execution_count": 13,
   "id": "940c6b7b",
   "metadata": {},
   "outputs": [
    {
     "data": {
      "text/plain": [
       "[1, 2, 3]"
      ]
     },
     "execution_count": 13,
     "metadata": {},
     "output_type": "execute_result"
    }
   ],
   "source": [
    "# we can use the filter() function to remove None values from a list by using None as the filter function itself.\n",
    "\n",
    "lst = [1, None, 2, None, 3, '', 0]\n",
    "list(filter(None, lst))\n"
   ]
  },
  {
   "cell_type": "markdown",
   "id": "ac6cf486",
   "metadata": {},
   "source": [
    "6. Create a Python program that uses `filter()` to select words longer than a certain length from a list of strings.\n"
   ]
  },
  {
   "cell_type": "code",
   "execution_count": 17,
   "id": "a3b2701d",
   "metadata": {},
   "outputs": [
    {
     "data": {
      "text/plain": [
       "['three', 'fourth', 'hello world']"
      ]
     },
     "execution_count": 17,
     "metadata": {},
     "output_type": "execute_result"
    }
   ],
   "source": [
    "l = ['one' , 'five' , 'three', 'fourth', \"hello world\"]\n",
    "\n",
    "def length(n):\n",
    "    if len(n) > 4:\n",
    "        return n\n",
    "\n",
    "list(filter(length, l))"
   ]
  },
  {
   "cell_type": "markdown",
   "id": "1f807ef3",
   "metadata": {},
   "source": [
    "7. Write a Python program that uses the `filter()` function to select elements greater than a specified threshold \n",
    "from a list of values.\n"
   ]
  },
  {
   "cell_type": "code",
   "execution_count": 19,
   "id": "07df39ca",
   "metadata": {},
   "outputs": [
    {
     "data": {
      "text/plain": [
       "[44, 51, 72, 43]"
      ]
     },
     "execution_count": 19,
     "metadata": {},
     "output_type": "execute_result"
    }
   ],
   "source": [
    "l1 = [2,13,23,44,2,51,72,24,32,14,43,10]\n",
    "def length1(n):\n",
    "    if n > 40:\n",
    "        return n\n",
    "list(filter(length1 , l1))"
   ]
  },
  {
   "cell_type": "markdown",
   "id": "181f2b9f",
   "metadata": {},
   "source": [
    "# Recursion:-\n"
   ]
  },
  {
   "cell_type": "markdown",
   "id": "2a944016",
   "metadata": {},
   "source": [
    "1. Explain the concept of recursion in Python. How does it differ from iteration?\n"
   ]
  },
  {
   "cell_type": "code",
   "execution_count": null,
   "id": "b9b210b8",
   "metadata": {},
   "outputs": [],
   "source": [
    "# Recursion is a programming concept where a function calls itself in order to solve a problem. The problem is broken down into \n",
    "# smaller instances of itself, and the function continues to call itself until it reaches a base case,at which point the \n",
    "# function stops calling itself and begins to return values.\n",
    "# Recursion does not need any thing like iterable to perfrom its activity, it just simply repeat itself untill the base \n",
    "# condition is true."
   ]
  },
  {
   "cell_type": "markdown",
   "id": "b993b6cd",
   "metadata": {},
   "source": [
    "2. Write a Python program to calculate the factorial of a number using recursion.\n"
   ]
  },
  {
   "cell_type": "code",
   "execution_count": 28,
   "id": "a7d57323",
   "metadata": {},
   "outputs": [
    {
     "name": "stdout",
     "output_type": "stream",
     "text": [
      "120\n"
     ]
    }
   ],
   "source": [
    "def fact(n):\n",
    "    if n<=1:\n",
    "        return n\n",
    "    else:\n",
    "        return n*fact(n-1)\n",
    "    \n",
    "print(fact(5))"
   ]
  },
  {
   "cell_type": "markdown",
   "id": "885fe8b9",
   "metadata": {},
   "source": [
    "3. Create a recursive Python function to find the nth Fibonacci number.\n"
   ]
  },
  {
   "cell_type": "code",
   "execution_count": 37,
   "id": "722030f8",
   "metadata": {},
   "outputs": [
    {
     "name": "stdout",
     "output_type": "stream",
     "text": [
      "55\n"
     ]
    }
   ],
   "source": [
    "def fibonacci(n):\n",
    "    if n <= 1:\n",
    "        return n\n",
    "    else:\n",
    "        return fibonacci(n-1) + fibonacci(n-2)\n",
    "\n",
    "print(fibonacci(10))  \n"
   ]
  },
  {
   "cell_type": "markdown",
   "id": "bb98785a",
   "metadata": {},
   "source": [
    "4. Write a recursive Python function to calculate the sum of all elements in a list.\n"
   ]
  },
  {
   "cell_type": "code",
   "execution_count": 2,
   "id": "c999ac18",
   "metadata": {},
   "outputs": [
    {
     "name": "stdout",
     "output_type": "stream",
     "text": [
      "6\n"
     ]
    }
   ],
   "source": [
    "def summ(n):\n",
    "    if not n:\n",
    "        return 0\n",
    "    return n[0] + summ(n[1:])\n",
    "\n",
    "l=[1,2,3]\n",
    "\n",
    "print(summ(l))"
   ]
  },
  {
   "cell_type": "markdown",
   "id": "3349f7a3",
   "metadata": {},
   "source": [
    "5. How can you prevent a recursive function from running indefinitely, causing a stack overflow error?\n"
   ]
  },
  {
   "cell_type": "markdown",
   "id": "1e4a6d62",
   "metadata": {},
   "source": [
    "Define a Base Case:\n",
    "The most fundamental strategy is to define a clear base case (or cases) that will terminate the recursion. \n",
    "The function should be designed such that it approaches this base case with each recursive call.\n",
    "Without a base case, or if the recursive calls don't make progress towards the base case, \n",
    "the function will keep calling itself indefinitely.\n",
    "\n",
    "Limit Recursion Depth:\n",
    "You can explicitly limit the recursion depth. For example, you might decide to limit the depth to 1000 calls. \n",
    "If this depth is exceeded, the function can either return an error value or raise an exception."
   ]
  },
  {
   "cell_type": "markdown",
   "id": "976b23b9",
   "metadata": {},
   "source": [
    "6. Create a recursive Python function to find the greatest common divisor (GCD) of two numbers using the Euclidean algorithm.\n"
   ]
  },
  {
   "cell_type": "code",
   "execution_count": 3,
   "id": "56ee6dfb",
   "metadata": {},
   "outputs": [
    {
     "name": "stdout",
     "output_type": "stream",
     "text": [
      "14\n"
     ]
    }
   ],
   "source": [
    "def gcd(a, b):\n",
    "    if b == 0:\n",
    "        return a\n",
    "    return gcd(b, a % b)\n",
    "\n",
    "\n",
    "print(gcd(56, 98))  \n"
   ]
  },
  {
   "cell_type": "markdown",
   "id": "be1653f1",
   "metadata": {},
   "source": [
    "7. Write a recursive Python function to reverse a string.\n"
   ]
  },
  {
   "cell_type": "code",
   "execution_count": 9,
   "id": "287b69d4",
   "metadata": {},
   "outputs": [
    {
     "data": {
      "text/plain": [
       "'gnirts'"
      ]
     },
     "execution_count": 9,
     "metadata": {},
     "output_type": "execute_result"
    }
   ],
   "source": [
    "def rev(n):\n",
    "    if len(n)<=1:\n",
    "        return n\n",
    "    return n[-1] + rev(n[:-1])\n",
    "s = 'string'\n",
    "rev(s)\n"
   ]
  },
  {
   "cell_type": "markdown",
   "id": "f7dc312f",
   "metadata": {},
   "source": [
    "8. Create a recursive Python function to calculate the power of a number (x^n).\n"
   ]
  },
  {
   "cell_type": "code",
   "execution_count": 2,
   "id": "cbb7af67",
   "metadata": {},
   "outputs": [
    {
     "name": "stdout",
     "output_type": "stream",
     "text": [
      "8\n",
      "0.125\n"
     ]
    }
   ],
   "source": [
    "def power(x, n):\n",
    "    if n == 0:\n",
    "        return 1\n",
    "\n",
    "    if n < 0:\n",
    "        return 1 / power(x, -n)\n",
    "\n",
    "    return x * power(x, n-1)\n",
    "\n",
    "print(power(2, 3))  \n",
    "\n",
    "print(power(2, -3)) \n",
    "\n",
    "\n"
   ]
  },
  {
   "cell_type": "markdown",
   "id": "66e85ff8",
   "metadata": {},
   "source": [
    "9. Write a recursive Python function to find all permutations of a given string.\n"
   ]
  },
  {
   "cell_type": "code",
   "execution_count": 10,
   "id": "ec810fad",
   "metadata": {},
   "outputs": [
    {
     "name": "stdout",
     "output_type": "stream",
     "text": [
      "['abc', 'acb', 'bac', 'bca', 'cab', 'cba']\n"
     ]
    }
   ],
   "source": [
    "def get_permutations(s):\n",
    "    if len(s) <= 1:\n",
    "        return [s]\n",
    "\n",
    "    permutations = []\n",
    "    for i, char in enumerate(s):\n",
    "        for perm in get_permutations(s[:i] + s[i+1:]):\n",
    "            permutations.append(char + perm)\n",
    "\n",
    "    return permutations\n",
    "\n",
    "s = \"abc\"\n",
    "print(get_permutations(s))\n"
   ]
  },
  {
   "cell_type": "markdown",
   "id": "d739f187",
   "metadata": {},
   "source": [
    "10. Write a recursive Python function to check if a string is a palindrome.\n"
   ]
  },
  {
   "cell_type": "code",
   "execution_count": 1,
   "id": "1b6da00c",
   "metadata": {},
   "outputs": [
    {
     "name": "stdout",
     "output_type": "stream",
     "text": [
      "True\n"
     ]
    }
   ],
   "source": [
    "def is_palindrome(s):\n",
    "    if len(s) <= 1:\n",
    "        return True\n",
    "\n",
    "    if s[0].lower() == s[-1].lower():\n",
    "        return is_palindrome(s[1:-1])\n",
    "    \n",
    "    return False\n",
    "\n",
    "s = \"Radar\"\n",
    "print(is_palindrome(s))  \n"
   ]
  },
  {
   "cell_type": "markdown",
   "id": "3f1cc3db",
   "metadata": {},
   "source": [
    "11. Create a recursive Python function to generate all possible combinations of a list of elements.\n"
   ]
  },
  {
   "cell_type": "code",
   "execution_count": 1,
   "id": "19ed69dc",
   "metadata": {},
   "outputs": [
    {
     "name": "stdout",
     "output_type": "stream",
     "text": [
      "[[], [1], [2], [1, 2], [3], [1, 3], [2, 3], [1, 2, 3]]\n"
     ]
    }
   ],
   "source": [
    "def combinations(lst):\n",
    "    if len(lst) == 0:\n",
    "        return [[]]\n",
    "    \n",
    "    smaller_combinations = combinations(lst[:-1])\n",
    "    \n",
    "    next_elem = lst[-1]\n",
    "    \n",
    "    return smaller_combinations + [item + [next_elem] for item in smaller_combinations]\n",
    "\n",
    "lst = [1, 2, 3]\n",
    "print(combinations(lst))\n"
   ]
  },
  {
   "cell_type": "markdown",
   "id": "7c4bdf3e",
   "metadata": {},
   "source": [
    "# Basics of Functions:\n"
   ]
  },
  {
   "cell_type": "markdown",
   "id": "2cd57595",
   "metadata": {},
   "source": [
    "1. What is a function in Python, and why is it used?\n"
   ]
  },
  {
   "cell_type": "markdown",
   "id": "f679ab30",
   "metadata": {},
   "source": [
    "Function in python is set of code which helps to generate output. A well defined function can be used any number of times\n",
    "even in future to avoid the problem repetion of the same code.  "
   ]
  },
  {
   "cell_type": "markdown",
   "id": "8752641c",
   "metadata": {},
   "source": [
    "2. How do you define a function in Python? Provide an example.\n"
   ]
  },
  {
   "cell_type": "code",
   "execution_count": 40,
   "id": "0e6fe8e4",
   "metadata": {},
   "outputs": [
    {
     "data": {
      "text/plain": [
       "11"
      ]
     },
     "execution_count": 40,
     "metadata": {},
     "output_type": "execute_result"
    }
   ],
   "source": [
    "# So, in order to define function in python we need to use \"def\" keyword, this keyword will let us create a custom function \n",
    "# according to our need and we can call by using its name that we gave to it. \n",
    "# How to create a function:\n",
    "\n",
    "# Use def and write name of the function. Then in brackets pass arguments after closing the brackets use colon symbol and press\n",
    "# Enter.\n",
    "\n",
    "# Then you need to write your actual function on the basis of passed arguments.\n",
    "\n",
    "# At last we need to use return keyword, whatever we pass in the return keyword will be the output of the function.\n",
    "\n",
    "# Here is an Example:\n",
    "\n",
    "def add(a,b):\n",
    "    return a+b\n",
    "\n",
    "add(5,6)\n"
   ]
  },
  {
   "cell_type": "markdown",
   "id": "aff9602e",
   "metadata": {},
   "source": [
    "3. Explain the difference between a function definition and a function call.\n"
   ]
  },
  {
   "cell_type": "code",
   "execution_count": 43,
   "id": "71c9c6de",
   "metadata": {},
   "outputs": [
    {
     "data": {
      "text/plain": [
       "'Hello, python!'"
      ]
     },
     "execution_count": 43,
     "metadata": {},
     "output_type": "execute_result"
    }
   ],
   "source": [
    "# The function definition is like creating a new tool: you design it and specify what it should do. \n",
    "# The function call, on the other hand, is like actually using that tool to perform its intended task.\n",
    "\n",
    "# Example:\n",
    "\n",
    "# Funtion definition : \n",
    "def greet(name):\n",
    "    return \"Hello, \" + name + \"!\"\n",
    "\n",
    "# Funtion Call:\n",
    "\n",
    "greet('python')\n"
   ]
  },
  {
   "cell_type": "markdown",
   "id": "3d4fd113",
   "metadata": {},
   "source": [
    "4. Write a Python program that defines a function to calculate the sum of two numbers and then calls the function.\n"
   ]
  },
  {
   "cell_type": "code",
   "execution_count": 44,
   "id": "ff1bd001",
   "metadata": {},
   "outputs": [
    {
     "data": {
      "text/plain": [
       "8"
      ]
     },
     "execution_count": 44,
     "metadata": {},
     "output_type": "execute_result"
    }
   ],
   "source": [
    "def Add(a,b):\n",
    "    return a+b\n",
    "\n",
    "Add(5,3)"
   ]
  },
  {
   "cell_type": "markdown",
   "id": "42b526f4",
   "metadata": {},
   "source": [
    "5. What is a function signature, and what information does it typically include?\n"
   ]
  },
  {
   "cell_type": "code",
   "execution_count": null,
   "id": "cd0cb902",
   "metadata": {},
   "outputs": [],
   "source": [
    "# A function signature defines the interface through which the outside world interacts with a function. \n",
    "# It provides a summary of the function's interface without revealing its implementation\n",
    "\n",
    "def add(a, b):\n",
    "    return a + b\n",
    "\n",
    "# The function signature here is add(a, b). Python does not specify type information in the function signature, \n",
    "# so we only see the function name and parameter names.\n"
   ]
  },
  {
   "cell_type": "markdown",
   "id": "8235e106",
   "metadata": {},
   "source": [
    "6. Create a Python function that takes two arguments and returns their product.\n"
   ]
  },
  {
   "cell_type": "code",
   "execution_count": 45,
   "id": "d26782f8",
   "metadata": {},
   "outputs": [
    {
     "data": {
      "text/plain": [
       "15"
      ]
     },
     "execution_count": 45,
     "metadata": {},
     "output_type": "execute_result"
    }
   ],
   "source": [
    "def multiply(a,b):\n",
    "    return a*b\n",
    "\n",
    "multiply(3,5)"
   ]
  },
  {
   "cell_type": "markdown",
   "id": "0763e14e",
   "metadata": {},
   "source": [
    "# Function Parameters and Arguments:\n"
   ]
  },
  {
   "cell_type": "markdown",
   "id": "a151f1f6",
   "metadata": {},
   "source": [
    "1. Explain the concepts of formal parameters and actual arguments in Python functions.\n"
   ]
  },
  {
   "cell_type": "code",
   "execution_count": 56,
   "id": "8def2a38",
   "metadata": {},
   "outputs": [
    {
     "data": {
      "text/plain": [
       "5"
      ]
     },
     "execution_count": 56,
     "metadata": {},
     "output_type": "execute_result"
    }
   ],
   "source": [
    "# Formal Parameters: These are the variables defined in the function definition. \n",
    "# They act as placeholders for the values that the function will receive when it's called. \n",
    "# They specify what kind of input the function expects to receive.\n",
    "\n",
    "# Example:\n",
    "def add(a,b): # a and b are formal arguments\n",
    "    return a+b\n",
    "    \n",
    "# Acutal arguments:These are the real values that you pass into a function when you call it. \n",
    "# These values are assigned to the function's formal parameters and are used in the function's computation.\n",
    "\n",
    "#Example: \n",
    "add(2,3) # 2 and 3 are actual arguments"
   ]
  },
  {
   "cell_type": "markdown",
   "id": "73e01306",
   "metadata": {},
   "source": [
    "2. Write a Python program that defines a function with default argument values.\n"
   ]
  },
  {
   "cell_type": "code",
   "execution_count": 49,
   "id": "a320fa6b",
   "metadata": {},
   "outputs": [
    {
     "name": "stdout",
     "output_type": "stream",
     "text": [
      "Hello, User!\n",
      "Hello, Python!\n"
     ]
    }
   ],
   "source": [
    "def greetings(name=\"User\"):\n",
    "    return f\"Hello, {name}!\"\n",
    "\n",
    "print(greetings())             \n",
    "print(greetings(\"Python\"))      "
   ]
  },
  {
   "cell_type": "markdown",
   "id": "016f1797",
   "metadata": {},
   "source": [
    "3. How do you use keyword arguments in Python function calls? Provide an example.\n"
   ]
  },
  {
   "cell_type": "code",
   "execution_count": 51,
   "id": "202a83dc",
   "metadata": {},
   "outputs": [
    {
     "name": "stdout",
     "output_type": "stream",
     "text": [
      "Python is your name, you are 21 years old and you are aLanguage\n"
     ]
    }
   ],
   "source": [
    "# 1 Defining a Function:\n",
    "def info(Name,Age,Gender):\n",
    "    return f\"{Name} is your name, you are {Age} years old and you are a{Gender}\"\n",
    "\n",
    "# 2. Calling the Function Using Keyword Arguments:\n",
    "print(info(Name = \"Python\", Age = 21,Gender = 'Language'))\n",
    "\n"
   ]
  },
  {
   "cell_type": "markdown",
   "id": "f0d96c96",
   "metadata": {},
   "source": [
    "4. Create a Python function that accepts a variable number of arguments and calculates their sum.\n"
   ]
  },
  {
   "cell_type": "code",
   "execution_count": 46,
   "id": "4da96472",
   "metadata": {},
   "outputs": [
    {
     "data": {
      "text/plain": [
       "10"
      ]
     },
     "execution_count": 46,
     "metadata": {},
     "output_type": "execute_result"
    }
   ],
   "source": [
    "def summ(*args):\n",
    "    return sum(args)\n",
    "\n",
    "summ(1,2,3,4)"
   ]
  },
  {
   "cell_type": "markdown",
   "id": "35f83fab",
   "metadata": {},
   "source": [
    "5. What is the purpose of the `*args` and `**kwargs` syntax in function parameter lists?\n"
   ]
  },
  {
   "cell_type": "code",
   "execution_count": 55,
   "id": "7b3f382a",
   "metadata": {},
   "outputs": [
    {
     "name": "stdout",
     "output_type": "stream",
     "text": [
      "10\n",
      "Name: Python\n",
      "Age: 12\n"
     ]
    }
   ],
   "source": [
    "# Purpose of *args: \n",
    "# This is used to define n number of arguments in a python function, this is used when the given argument is not specific.\n",
    "# The user can give to any number of inputs and will get the accurate result.\n",
    "\n",
    "#Purpose of **kwargs:\n",
    "# When we need to pass a dictionary in a function as an argument then we have to use **kwargs as our argument.\n",
    "# Simply saying, **kwargs will let us pass a dictionary in the function in the form of input.\n",
    "\n",
    "# Syntax of  * args:\n",
    "def summ(*args):\n",
    "    return sum(args)\n",
    "\n",
    "print(summ(1,2,3,4))\n",
    "\n",
    "#Syntax of **kwargs:\n",
    "\n",
    "def data(**kwargs):\n",
    "    for key, value in kwargs.items():\n",
    "        print(f\"{key}: {value}\")\n",
    "data(Name=\"Python\",Age= 12)\n"
   ]
  },
  {
   "cell_type": "markdown",
   "id": "33f504c1",
   "metadata": {},
   "source": [
    "# Return Values and Scoping:\n"
   ]
  },
  {
   "cell_type": "markdown",
   "id": "4db668b4",
   "metadata": {},
   "source": [
    "1. Describe the role of the `return` statement in Python functions and provide examples.\n"
   ]
  },
  {
   "cell_type": "markdown",
   "id": "7b0b1312",
   "metadata": {},
   "source": [
    "The return statement is used to send a result back from a function to the place where the function was called. \n",
    "When the return statement is executed, the function terminates immediately and the value specified in the return \n",
    "statement is sent back to the caller. If a function does not have a return statement or if the return statement does not \n",
    "specify any value, then the function will return None by default."
   ]
  },
  {
   "cell_type": "code",
   "execution_count": 3,
   "id": "09dea5ef",
   "metadata": {},
   "outputs": [
    {
     "name": "stdout",
     "output_type": "stream",
     "text": [
      "True\n"
     ]
    }
   ],
   "source": [
    "# Example:\n",
    "def is_even(number):\n",
    "    if number % 2 == 0:\n",
    "        return True\n",
    "    return False\n",
    "\n",
    "print(is_even(4)) "
   ]
  },
  {
   "cell_type": "markdown",
   "id": "584e8a68",
   "metadata": {},
   "source": [
    "2. Explain the concept of variable scope in Python, including local and global variables.\n"
   ]
  },
  {
   "cell_type": "markdown",
   "id": "f59fdc7f",
   "metadata": {},
   "source": [
    "The scope of a variable determines where within the code you can access that variable. The concept of scope is crucial to \n",
    "understand because it helps in avoiding variable name clashes and provides a way to control the accessibility and lifespan\n",
    "of a variable\n",
    "\n",
    "Local variables are defined inside a function or block and can only be accessed within that function.\n",
    "\n",
    "Global variables are defined outside of all functions, at the top level of the module/script.\n"
   ]
  },
  {
   "cell_type": "code",
   "execution_count": 5,
   "id": "bad7ddd3",
   "metadata": {},
   "outputs": [
    {
     "name": "stdout",
     "output_type": "stream",
     "text": [
      "I am a local variable\n",
      "I am a global variable\n",
      "I am the modified global variable\n"
     ]
    }
   ],
   "source": [
    "# Example:\n",
    "def my_function():\n",
    "    local_variable = \"I am a local variable\"\n",
    "    print(local_variable)\n",
    "\n",
    "my_function()\n",
    "\n",
    "global_variable = \"I am a global variable\"\n",
    "\n",
    "def my_function():\n",
    "    print(global_variable)\n",
    "\n",
    "def modify_global():\n",
    "    global global_variable\n",
    "    global_variable = \"I am the modified global variable\"\n",
    "\n",
    "my_function() \n",
    "modify_global()\n",
    "my_function()  \n"
   ]
  },
  {
   "cell_type": "markdown",
   "id": "f795c33f",
   "metadata": {},
   "source": [
    "3. Write a Python program that demonstrates the use of global variables within functions.\n"
   ]
  },
  {
   "cell_type": "code",
   "execution_count": 6,
   "id": "34ec586e",
   "metadata": {},
   "outputs": [
    {
     "name": "stdout",
     "output_type": "stream",
     "text": [
      "List of students:\n",
      "Mohan\n",
      "Boby\n",
      "Python\n"
     ]
    }
   ],
   "source": [
    "students = []\n",
    "\n",
    "def add_student(name):\n",
    "    global students  \n",
    "    students.append(name)\n",
    "\n",
    "def display_students():\n",
    "    global students  \n",
    "    for student in students:\n",
    "        print(student)\n",
    "\n",
    "add_student(\"Mohan\")\n",
    "add_student(\"Boby\")\n",
    "add_student(\"Python\")\n",
    "\n",
    "print(\"List of students:\")\n",
    "display_students()\n"
   ]
  },
  {
   "cell_type": "markdown",
   "id": "f8370320",
   "metadata": {},
   "source": [
    "4. Create a Python function that calculates the factorial of a number and returns it.\n"
   ]
  },
  {
   "cell_type": "code",
   "execution_count": 8,
   "id": "541f0d53",
   "metadata": {},
   "outputs": [
    {
     "data": {
      "text/plain": [
       "120"
      ]
     },
     "execution_count": 8,
     "metadata": {},
     "output_type": "execute_result"
    }
   ],
   "source": [
    "def fact(n):\n",
    "    if n <=1:\n",
    "        return 1\n",
    "    else:\n",
    "        return n * fact(n-1)\n",
    "fact(5)"
   ]
  },
  {
   "cell_type": "markdown",
   "id": "318f701b",
   "metadata": {},
   "source": [
    "\n",
    "5. How can you access variables defined outside a function from within the function?\n"
   ]
  },
  {
   "cell_type": "code",
   "execution_count": 10,
   "id": "80bb967e",
   "metadata": {},
   "outputs": [
    {
     "name": "stdout",
     "output_type": "stream",
     "text": [
      "I'm a variable\n"
     ]
    }
   ],
   "source": [
    "# If a variable is defined at outside of any function, you can directly access it from any function within that module.\n",
    "variable = \"I'm a variable\"\n",
    "\n",
    "def access():\n",
    "    print(variable)\n",
    "\n",
    "access()  \n"
   ]
  },
  {
   "cell_type": "markdown",
   "id": "69d82d7f",
   "metadata": {},
   "source": [
    "# Lambda Functions and Higher-Order Functions:\n"
   ]
  },
  {
   "cell_type": "markdown",
   "id": "c029930f",
   "metadata": {},
   "source": [
    "1. What are lambda functions in Python, and when are they typically used?\n"
   ]
  },
  {
   "cell_type": "code",
   "execution_count": 12,
   "id": "b9ec1ef9",
   "metadata": {},
   "outputs": [
    {
     "data": {
      "text/plain": [
       "<function __main__.<lambda>(arguments)>"
      ]
     },
     "execution_count": 12,
     "metadata": {},
     "output_type": "execute_result"
    }
   ],
   "source": [
    "# In Python, a lambda function is a small, anonymous function. \"Anonymous\" means it does not have a name like regular functions \n",
    "# defined with the def keyword. A lambda function can have any number of arguments but can only have one expression. \n",
    "# The expression is evaluated and returned when the lambda function is called.\n",
    "# Syntax:\n",
    "\n",
    "lambda arguments: expression\n",
    "\n"
   ]
  },
  {
   "cell_type": "markdown",
   "id": "9f367166",
   "metadata": {},
   "source": [
    "2. Write a Python program that uses lambda functions to sort a list of tuples based on the second element.\n"
   ]
  },
  {
   "cell_type": "code",
   "execution_count": 11,
   "id": "f70ff632",
   "metadata": {},
   "outputs": [
    {
     "name": "stdout",
     "output_type": "stream",
     "text": [
      "[(1, 'apple'), (3, 'banana'), (2, 'cherry'), (4, 'date')]\n"
     ]
    }
   ],
   "source": [
    "data = [(1, 'apple'), (3, 'banana'), (2, 'cherry'), (4, 'date')]\n",
    "\n",
    "sorted_data = sorted(data, key=lambda x: x[1])\n",
    "\n",
    "print(sorted_data)\n"
   ]
  },
  {
   "cell_type": "markdown",
   "id": "ed28a117",
   "metadata": {},
   "source": [
    "3. Explain the concept of higher-order functions in Python, and provide an example.\n"
   ]
  },
  {
   "cell_type": "markdown",
   "id": "f985fb4b",
   "metadata": {},
   "source": [
    "Higher-order functions are a fundamental concept in functional programming. In Python, a higher-order function refers to a \n",
    "function that does at least one of the following:\n",
    "\n",
    "Accepts one or more functions as arguments.\n",
    "\n",
    "Returns a function as its result.\n",
    "\n",
    "Map(),filter(),reduce() are the example of higher order function."
   ]
  },
  {
   "cell_type": "markdown",
   "id": "9e4e0c81",
   "metadata": {},
   "source": [
    "4. Create a Python function that takes a list of numbers and a function as arguments, applying the function to each element in the list.\n"
   ]
  },
  {
   "cell_type": "code",
   "execution_count": 13,
   "id": "617c14ea",
   "metadata": {},
   "outputs": [
    {
     "name": "stdout",
     "output_type": "stream",
     "text": [
      "[1, 4, 9, 16, 25]\n"
     ]
    }
   ],
   "source": [
    "def apply_to_each(numbers, func):\n",
    "    return [func(num) for num in numbers]\n",
    "\n",
    "\n",
    "def square(x):\n",
    "    return x ** 2\n",
    "\n",
    "numbers = [1, 2, 3, 4, 5]\n",
    "squared_numbers = apply_to_each(numbers, square)\n",
    "print(squared_numbers)  \n",
    "\n"
   ]
  },
  {
   "cell_type": "markdown",
   "id": "19b9016e",
   "metadata": {},
   "source": [
    "# Built-in Functions:\n"
   ]
  },
  {
   "cell_type": "markdown",
   "id": "27931ab7",
   "metadata": {},
   "source": [
    "1. Describe the role of built-in functions like `len()`, `max()`, and `min()` in Python.\n"
   ]
  },
  {
   "cell_type": "code",
   "execution_count": 13,
   "id": "918f0c7b",
   "metadata": {},
   "outputs": [
    {
     "data": {
      "text/plain": [
       "2"
      ]
     },
     "execution_count": 13,
     "metadata": {},
     "output_type": "execute_result"
    }
   ],
   "source": [
    "# len(): This function is used to get length of the variable. In this function we need pass the variable in the brackets and it\n",
    "# returns the total length of that variable. Example:\n",
    "a = [1,2,3,4]\n",
    "len(a)\n",
    "\n",
    "# max(): This function is used to get the maximum value in the variable.We just need to pass the variable inside the brackets \n",
    "# and it will return the highest values from the mentioned variable. Example:\n",
    "\n",
    "b = (2,20,22,34,9,12,3)\n",
    "max(b)\n",
    "\n",
    "#min(): This function is as same as the max function,the only difference is this will return the lowest value from the given\n",
    "# variable.Example:\n",
    "c = (3,4,5,2,5,2,3,5)\n",
    "min(c)"
   ]
  },
  {
   "cell_type": "markdown",
   "id": "835496c7",
   "metadata": {},
   "source": [
    "2. Write a Python program that uses the `map()` function to apply a function to each element of a list.\n"
   ]
  },
  {
   "cell_type": "code",
   "execution_count": 22,
   "id": "9a37f25a",
   "metadata": {},
   "outputs": [
    {
     "data": {
      "text/plain": [
       "[2, 4, 6, 8, 10, 12, 14, 16, 18, 20]"
      ]
     },
     "execution_count": 22,
     "metadata": {},
     "output_type": "execute_result"
    }
   ],
   "source": [
    "lst = [1,2,3,4,5,6,7,8,9,10]\n",
    "list(map(lambda a:a*2 , lst))"
   ]
  },
  {
   "cell_type": "markdown",
   "id": "d877239e",
   "metadata": {},
   "source": [
    "3. How does the `filter()` function work in Python, and when would you use it?\n"
   ]
  },
  {
   "cell_type": "code",
   "execution_count": 26,
   "id": "e9988873",
   "metadata": {},
   "outputs": [
    {
     "data": {
      "text/plain": [
       "[2, 4, 6, 8, 10]"
      ]
     },
     "execution_count": 26,
     "metadata": {},
     "output_type": "execute_result"
    }
   ],
   "source": [
    "# Filter function is used to filter elements by iteration the elements based upon the given condition. It takes two agruments\n",
    "# (condition,iterables).It really helps to shorten the length of code. \n",
    "\n",
    "list(filter(lambda a:a%2==0,range(1,11)))\n",
    "\n"
   ]
  },
  {
   "cell_type": "markdown",
   "id": "500eabdf",
   "metadata": {},
   "source": [
    "4. Create a Python program that uses the `reduce()` function to find the product of all elements in a list.\n"
   ]
  },
  {
   "cell_type": "code",
   "execution_count": 2,
   "id": "efb9dd00",
   "metadata": {},
   "outputs": [
    {
     "data": {
      "text/plain": [
       "24"
      ]
     },
     "execution_count": 2,
     "metadata": {},
     "output_type": "execute_result"
    }
   ],
   "source": [
    "from functools import reduce\n",
    "lst = [2,3,4]\n",
    "reduce(lambda a,b:a*b,lst)"
   ]
  },
  {
   "cell_type": "code",
   "execution_count": null,
   "id": "eada72e9",
   "metadata": {},
   "outputs": [],
   "source": []
  },
  {
   "cell_type": "markdown",
   "id": "b467539e",
   "metadata": {},
   "source": [
    "# Function Documentation and Best Practices:\n"
   ]
  },
  {
   "cell_type": "markdown",
   "id": "93cd7128",
   "metadata": {},
   "source": [
    "1. Explain the purpose of docstrings in Python functions and how to write them.\n"
   ]
  },
  {
   "cell_type": "markdown",
   "id": "b2623ec5",
   "metadata": {},
   "source": [
    "In Python, docstrings (short for \"documentation strings\") serve as a way to embed a description or documentation directly \n",
    "within the code. They provide a concise way to describe the purpose of a function, its parameters, its return value, \n",
    "exceptions it might raise, and sometimes even examples of its use.\n",
    "\n",
    "Purpose of Docstrings:\n",
    "\n",
    "Self-documenting Code: Docstrings help make code self-explanatory, allowing other developers to understand the functionality \n",
    "without diving deep into the code logic.\n",
    "\n",
    "Tool Integration: Several tools, like help(), pydoc, and Sphinx, can automatically extract and format the information \n",
    "in docstrings to produce external documentation or assist with inline help in interactive environments.\n",
    "\n",
    "How to Write Docstrings:\n",
    "\n",
    "Position: The docstring is placed immediately after the function, method, class, or module definition, before any other code or comments.\n",
    "\n",
    "Delimiters: Triple quotes (either single ''' or double \"\"\") are used to define a docstring. For one-liners, either style is acceptable, but for multi-line docstrings, the \"\"\" style is conventional.\n",
    "\n",
    "Content:\n",
    "One-liners: For short and simple descriptions.\n",
    "\n",
    "Multi-line: Begins with a one-line summary, followed by a more detailed description. The summary and the detailed description are separated by a blank line\n",
    "\n",
    "Example:\n",
    "\n",
    "def add(a, b):\n",
    "\n",
    "    \"\"\"Return the sum of a and b.\"\"\"\n",
    "    return a + b\n",
    "    \n",
    "Multi-line Docstring:\n",
    "\n",
    "\n",
    "\n",
    "def add(a, b):\n",
    "  \n",
    "    \"\"\"Return the sum of a and b \n",
    "    \n",
    "    it will return the sum of a and b .\n",
    "    \n",
    "    \"\"\"\n",
    "    return a + b\n",
    "\n",
    "This is how you access docstrings:\n",
    "\n",
    "print(help.__doc__)\n",
    "\n",
    "help(help)\n"
   ]
  },
  {
   "cell_type": "markdown",
   "id": "a5ee3195",
   "metadata": {},
   "source": [
    "2. Describe some best practices for naming functions and variables in Python, including naming conventions and guidelines."
   ]
  },
  {
   "cell_type": "markdown",
   "id": "77bda514",
   "metadata": {},
   "source": [
    "Proper naming of functions and variables is crucial for writing code that's readable, maintainable, and understandable by both the author and other developers. Here are some best practices and conventions for naming functions and variables in Python:"
   ]
  },
  {
   "cell_type": "markdown",
   "id": "3292a745",
   "metadata": {},
   "source": [
    "Use Descriptive Names:\n",
    "\n",
    "Names should be descriptive enough to indicate the purpose or functionality of the variable or function.\n",
    "For instance, username is more understandable than un, and calculate_total_price is clearer than ctp."
   ]
  },
  {
   "cell_type": "markdown",
   "id": "f1f73b98",
   "metadata": {},
   "source": [
    "Avoid Using Single-letter Names:\n",
    "\n",
    "Except in certain contexts where the meaning is clear, such as in small loop counters (for i in range(10):) or lambda functions where x or y might be acceptable."
   ]
  },
  {
   "cell_type": "markdown",
   "id": "3bd4f0c0",
   "metadata": {},
   "source": [
    "Avoid Name Collisions:\n",
    "\n",
    "Do not use names that clash with built-in Python names or modules, like list, dict, input, etc."
   ]
  },
  {
   "cell_type": "markdown",
   "id": "53824cd0",
   "metadata": {},
   "source": [
    "Limit the Length of Names:\n",
    "\n",
    "While names should be descriptive, they shouldn't be excessively long. Strike a balance between clarity and brevity.\n",
    "\n",
    "Avoid Using Non-alphanumeric Characters:\n",
    "\n",
    "Stick to letters and numbers. Using characters like $, !, or & in names can be confusing and is generally not recommended.\n",
    "\n",
    "Avoid Using Abbreviations:\n",
    "\n",
    "Unless the abbreviation is widely accepted and understood (like info instead of information), it's typically better to spell out words for clarity."
   ]
  },
  {
   "cell_type": "markdown",
   "id": "0c2de37b",
   "metadata": {},
   "source": [
    "By adhering to these conventions and best practices, developers ensure that their code remains readable, understandable, and maintainable both for themselves and for others who might work on the same codebase.\n",
    "\n",
    "\n",
    "\n",
    "\n",
    "\n"
   ]
  },
  {
   "cell_type": "code",
   "execution_count": null,
   "id": "b27cb2df",
   "metadata": {},
   "outputs": [],
   "source": []
  }
 ],
 "metadata": {
  "kernelspec": {
   "display_name": "Python 3 (ipykernel)",
   "language": "python",
   "name": "python3"
  },
  "language_info": {
   "codemirror_mode": {
    "name": "ipython",
    "version": 3
   },
   "file_extension": ".py",
   "mimetype": "text/x-python",
   "name": "python",
   "nbconvert_exporter": "python",
   "pygments_lexer": "ipython3",
   "version": "3.10.9"
  }
 },
 "nbformat": 4,
 "nbformat_minor": 5
}
